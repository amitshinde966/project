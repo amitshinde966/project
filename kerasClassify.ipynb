{
 "cells": [
  {
   "cell_type": "code",
   "execution_count": 1,
   "metadata": {
    "id": "IVB_ENwvR-Ng",
    "colab_type": "code",
    "colab": {}
   },
   "outputs": [
    {
     "name": "stderr",
     "output_type": "stream",
     "text": [
      "C:\\Users\\Singham_My_Love\\Anaconda3\\lib\\site-packages\\h5py\\__init__.py:36: FutureWarning: Conversion of the second argument of issubdtype from `float` to `np.floating` is deprecated. In future, it will be treated as `np.float64 == np.dtype(float).type`.\n  from ._conv import register_converters as _register_converters\nUsing TensorFlow backend.\n"
     ]
    }
   ],
   "source": [
    "import pandas as pd\n",
    "import sys  \n",
    "import numpy as np\n",
    "from keras import utils\n",
    "from keras.models import Sequential\n",
    "\n",
    "\n",
    "from sklearn.model_selection import train_test_split\n",
    "from keras.preprocessing import text, sequence\n",
    "from sklearn.preprocessing import LabelBinarizer, LabelEncoder\n",
    "from keras.layers import Dense, Activation, Dropout"
   ]
  },
  {
   "cell_type": "code",
   "execution_count": 2,
   "metadata": {
    "id": "1WuwyjUWTAdo",
    "colab_type": "code",
    "colab": {}
   },
   "outputs": [],
   "source": [
    "filepath = 'input/news_data.csv'\n",
    "df = pd.read_csv(filepath, encoding='latin-1')\n",
    "\n",
    "df['CATEGORY'] = df.CATEGORY.map({'b': 0, 't': 1, 'e': 2, 'm': 3})\n",
    "sentences = df['TITLE']\n",
    "y = df['CATEGORY']\n",
    "\n",
    "sentences_train, sentences_test, y_train, y_test = train_test_split(    \n",
    "    sentences, y, test_size=0.25, random_state=1000)"
   ]
  },
  {
   "cell_type": "code",
   "execution_count": 3,
   "metadata": {
    "id": "wY5X3151TDBn",
    "colab_type": "code",
    "colab": {}
   },
   "outputs": [],
   "source": [
    "s = pd.concat([sentences_test, y_test], axis=1)\n",
    "s.to_csv('sample_test.csv', sep=',')"
   ]
  },
  {
   "cell_type": "code",
   "execution_count": 4,
   "metadata": {
    "id": "Y4PDjFc5TGkr",
    "colab_type": "code",
    "colab": {}
   },
   "outputs": [],
   "source": [
    "max_words = 1000\n",
    "tokenize = text.Tokenizer(num_words=max_words, char_level=False)"
   ]
  },
  {
   "cell_type": "code",
   "execution_count": 5,
   "metadata": {
    "id": "uIbGlqeqTJ9Z",
    "colab_type": "code",
    "colab": {}
   },
   "outputs": [],
   "source": [
    "tokenize.fit_on_texts(sentences_train) \n",
    "x_train = tokenize.texts_to_matrix(sentences_train)\n",
    "x_test = tokenize.texts_to_matrix(sentences_test)"
   ]
  },
  {
   "cell_type": "code",
   "execution_count": 6,
   "metadata": {
    "id": "y635YVWoTL53",
    "colab_type": "code",
    "colab": {}
   },
   "outputs": [],
   "source": [
    "encoder = LabelEncoder()\n",
    "encoder.fit(y_train)\n",
    "y_train = encoder.transform(y_train)\n",
    "y_test = encoder.transform(y_test)"
   ]
  },
  {
   "cell_type": "code",
   "execution_count": 7,
   "metadata": {
    "id": "fWCPIf2JTOLR",
    "colab_type": "code",
    "colab": {}
   },
   "outputs": [],
   "source": [
    "num_classes = np.max(y_train)+1\n",
    "y_train = utils.to_categorical(y_train, num_classes)\n",
    "y_test = utils.to_categorical(y_test, num_classes)"
   ]
  },
  {
   "cell_type": "code",
   "execution_count": 8,
   "metadata": {
    "id": "vvPYY0S0UGxQ",
    "colab_type": "code",
    "colab": {
     "base_uri": "https://localhost:8080/",
     "height": 85.0
    },
    "outputId": "0d2bf7d5-2522-4e4f-be5b-d3aca8c06fb4",
    "executionInfo": {
     "status": "ok",
     "timestamp": 1.551293773409E12,
     "user_tz": -330.0,
     "elapsed": 1154.0,
     "user": {
      "displayName": "Juhi Shelar",
      "photoUrl": "https://lh4.googleusercontent.com/-pac5xTZkvp4/AAAAAAAAAAI/AAAAAAAAN6U/pBnk1wc1GpM/s64/photo.jpg",
      "userId": "14576539181580458175"
     }
    }
   },
   "outputs": [
    {
     "name": "stdout",
     "output_type": "stream",
     "text": [
      "x_train shape: (749, 1000)\nx_test shape: (250, 1000)\ny_train shape: (749, 2)\ny_test shape: (250, 2)\n"
     ]
    }
   ],
   "source": [
    "print('x_train shape:', x_train.shape)\n",
    "print('x_test shape:', x_test.shape)\n",
    "print('y_train shape:', y_train.shape)\n",
    "print('y_test shape:', y_test.shape)"
   ]
  },
  {
   "cell_type": "code",
   "execution_count": 9,
   "metadata": {
    "id": "FOEhcV-uURxr",
    "colab_type": "code",
    "colab": {}
   },
   "outputs": [],
   "source": [
    "batch_size = 32\n",
    "epochs = 2"
   ]
  },
  {
   "cell_type": "code",
   "execution_count": 10,
   "metadata": {
    "id": "qfypSWoUUTtB",
    "colab_type": "code",
    "colab": {
     "base_uri": "https://localhost:8080/",
     "height": 139.0
    },
    "outputId": "21eac489-bd79-4376-fba3-2f969b93e67e",
    "executionInfo": {
     "status": "ok",
     "timestamp": 1.551293875572E12,
     "user_tz": -330.0,
     "elapsed": 1145.0,
     "user": {
      "displayName": "Juhi Shelar",
      "photoUrl": "https://lh4.googleusercontent.com/-pac5xTZkvp4/AAAAAAAAAAI/AAAAAAAAN6U/pBnk1wc1GpM/s64/photo.jpg",
      "userId": "14576539181580458175"
     }
    }
   },
   "outputs": [],
   "source": [
    "# Build the model\n",
    "model = Sequential()\n",
    "model.add(Dense(512, input_shape=(max_words,)))\n",
    "model.add(Activation('relu'))\n",
    "model.add(Dropout(0.5))\n",
    "model.add(Dense(num_classes))\n",
    "model.add(Activation('softmax'))\n",
    "\n",
    "model.compile(loss='categorical_crossentropy',\n",
    "              optimizer='adam',\n",
    "              metrics=['accuracy'])"
   ]
  },
  {
   "cell_type": "code",
   "execution_count": 14,
   "metadata": {
    "id": "ci-Gxx0IUVxB",
    "colab_type": "code",
    "colab": {}
   },
   "outputs": [
    {
     "name": "stdout",
     "output_type": "stream",
     "text": [
      "[1 1 1 1 0 1 0 1 1 1 1 0 0 0 0 1 1 0 1 1 0 1 0 1 1 0 0 1 1 0 1 0 0 1 0 0 0\n 0 0 0 1 1 1 1 0 1 1 0 1 1 0 0 0 0 0 1 0 0 1 1 1 1 0 0 1 1 0 0 0 0 1 1 1 1\n 1 1 0 1 0 1 1 0 1 1 1 0 1 1 0 0 1 0 1 0 1 1 0 1 0 1 1 1 1 1 1 1 0 1 0 0 1\n 1 1 1 1 1 1 1 0 1 1 0 1 1 1 0 0 1 1 0 0 1 1 1 1 1 1 1 1 0 1 1 1 1 0 0 1 1\n 1 0 0 0 1 0 1 0 1 1 1 1 1 1 1 1 0 0 0 0 1 0 0 0 0 0 0 0 1 1 0 0 0 1 1 1 0\n 0 1 0 0 1 0 1 1 0 1 0 0 0 1 0 1 1 0 0 1 1 0 1 1 1 0 0 0 1 1 1 0 1 0 0 1 1\n 0 0 1 0 0 0 1 0 1 1 1 0 0 0 0 0 0 1 0 1 1 0 1 1 0 1 0 0]\n"
     ]
    }
   ],
   "source": [
    "my_y = model.predict_classes(x_test)\n",
    "print(my_y)\n",
    "np.savetxt(\"test_output.txt\", my_y, delimiter=\",\")"
   ]
  },
  {
   "cell_type": "code",
   "execution_count": 12,
   "metadata": {
    "id": "gImM2OzxUmI5",
    "colab_type": "code",
    "colab": {
     "base_uri": "https://localhost:8080/",
     "height": 51.0
    },
    "outputId": "fcbf102d-aa1c-4678-8426-356721199253",
    "executionInfo": {
     "status": "ok",
     "timestamp": 1.551293902077E12,
     "user_tz": -330.0,
     "elapsed": 1206.0,
     "user": {
      "displayName": "Juhi Shelar",
      "photoUrl": "https://lh4.googleusercontent.com/-pac5xTZkvp4/AAAAAAAAAAI/AAAAAAAAN6U/pBnk1wc1GpM/s64/photo.jpg",
      "userId": "14576539181580458175"
     }
    }
   },
   "outputs": [
    {
     "name": "stdout",
     "output_type": "stream",
     "text": [
      "\r 32/250 [==>...........................] - ETA: 4s"
     ]
    },
    {
     "name": "stdout",
     "output_type": "stream",
     "text": [
      "\b\b\b\b\b\b\b\b\b\b\b\b\b\b\b\b\b\b\b\b\b\b\b\b\b\b\b\b\b\b\b\b\b\b\b\b\b\b\b\b\b\b\b\b\b\b\b\b\b\b\r250/250 [==============================] - 1s 3ms/step\n"
     ]
    },
    {
     "name": "stdout",
     "output_type": "stream",
     "text": [
      "Test accuracy: 0.47200000238418577\n"
     ]
    }
   ],
   "source": [
    "score = model.evaluate(x_test, y_test,\n",
    "                       batch_size=batch_size, verbose=1)\n",
    "print('Test accuracy:', score[1])"
   ]
  }
 ],
 "metadata": {
  "colab": {
   "name": "Untitled7.ipynb",
   "version": "0.3.2",
   "provenance": [],
   "collapsed_sections": []
  },
  "kernelspec": {
   "name": "python3",
   "display_name": "Python 3"
  }
 },
 "nbformat": 4,
 "nbformat_minor": 0
}
